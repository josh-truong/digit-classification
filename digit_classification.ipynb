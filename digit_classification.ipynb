{
  "nbformat": 4,
  "nbformat_minor": 0,
  "metadata": {
    "colab": {
      "name": " digit-classification.ipynb",
      "provenance": [],
      "collapsed_sections": [
        "oxExLrYFaRmI",
        "F0jGJTYoHfHi"
      ],
      "authorship_tag": "ABX9TyMKRFfAsyyuxinwTtKfrDdX",
      "include_colab_link": true
    },
    "kernelspec": {
      "name": "python3",
      "display_name": "Python 3"
    },
    "language_info": {
      "name": "python"
    }
  },
  "cells": [
    {
      "cell_type": "markdown",
      "metadata": {
        "id": "view-in-github",
        "colab_type": "text"
      },
      "source": [
        "<a href=\"https://colab.research.google.com/github/josh-truong/digit-classification/blob/main/digit_classification.ipynb\" target=\"_parent\"><img src=\"https://colab.research.google.com/assets/colab-badge.svg\" alt=\"Open In Colab\"/></a>"
      ]
    },
    {
      "cell_type": "code",
      "source": [
        "import numpy as np\n",
        "import pandas as pd\n",
        "from keras.datasets import mnist\n",
        "from matplotlib import pyplot as plt\n",
        "from matplotlib import gridspec\n",
        "import time\n",
        "\n",
        "%matplotlib inline"
      ],
      "metadata": {
        "id": "wr4FyoHdeo5g"
      },
      "execution_count": 1,
      "outputs": []
    },
    {
      "cell_type": "markdown",
      "source": [
        "# Helper Functions"
      ],
      "metadata": {
        "id": "7bYKuhRJGYof"
      }
    },
    {
      "cell_type": "code",
      "source": [
        "def show_images(images, nrow=2, ncol=5, img_w=28, img_height=28):\n",
        "  images = images if (len(images.shape) == 2) else np.array([images])\n",
        "  n = len(images)\n",
        "  (nrow,ncol) = (1, n) if(n < nrow*ncol) else (nrow, ncol)\n",
        "\n",
        "  indices = np.random.choice(len(images), size=(nrow*ncol), replace=True)\n",
        "  images = images[indices, :]\n",
        "\n",
        "  fig = plt.figure(figsize=(ncol+1, nrow+1)) \n",
        "  gs = gridspec.GridSpec(nrow, ncol,\n",
        "          wspace=0.0, hspace=0.0, \n",
        "          top=1.-0.5/(nrow+1), bottom=0.5/(nrow+1), \n",
        "          left=0.5/(ncol+1), right=1-0.5/(ncol+1)) \n",
        "\n",
        "  for n, img in enumerate(images):\n",
        "    row, col = n // ncol, n % ncol\n",
        "    ax = plt.subplot(gs[row, col])\n",
        "    ax.imshow(img.reshape(img_w,img_height))\n",
        "    ax.set_xticklabels([]); ax.set_yticklabels([])\n",
        "  return indices"
      ],
      "metadata": {
        "id": "T2aDQLTOGYcC"
      },
      "execution_count": 2,
      "outputs": []
    },
    {
      "cell_type": "markdown",
      "source": [
        "# MNIST Dataset\n",
        "Kaggles MNIST dataset contains 785 columns representing a 28x28 image label(1) and pixel values(784). The pixel values of the image can range from 0 to 255.\n",
        "\n",
        "https://www.kaggle.com/competitions/digit-recognizer"
      ],
      "metadata": {
        "id": "As4M2ZH0gFA2"
      }
    },
    {
      "cell_type": "code",
      "source": [
        "num_labels = 10\n",
        "(x_train, y_train), (x_test, y_test) = mnist.load_data()\n",
        "\n",
        "x_train = x_train.reshape(-1, 784)\n",
        "x_test = x_test.reshape(-1, 784)\n",
        "\n",
        "# shuffle training dataset\n",
        "shuffle_index = np.random.permutation(len(x_train))\n",
        "x_train, y_train = x_train[shuffle_index], y_train[shuffle_index]\n",
        "\n",
        "print('Training Dataset: {0} {1}'.format(x_train.shape, y_train.shape))\n",
        "print('Training Dataset: {0} {1}'.format(x_test.shape, y_test.shape))"
      ],
      "metadata": {
        "colab": {
          "base_uri": "https://localhost:8080/"
        },
        "id": "p3iFhX4sJ98K",
        "outputId": "0b9173e3-1259-4088-900f-4efeec0593a7"
      },
      "execution_count": 3,
      "outputs": [
        {
          "output_type": "stream",
          "name": "stdout",
          "text": [
            "Training Dataset: (60000, 784) (60000,)\n",
            "Training Dataset: (10000, 784) (10000,)\n"
          ]
        }
      ]
    },
    {
      "cell_type": "markdown",
      "source": [
        "# Data normalization\n",
        "A common practice for training a Neural Network is to normalize the dataset such that the features are on a similar scale.\n",
        "\n",
        "Improving performance and convergence(training stability).\n",
        "\n",
        "Therefore, the image pixel values should be divided by 255."
      ],
      "metadata": {
        "id": "6kjWQ1aRnM-E"
      }
    },
    {
      "cell_type": "code",
      "source": [
        "x_train = x_train / 255\n",
        "x_test = x_test / 255"
      ],
      "metadata": {
        "id": "eAjR2VIVnMRz"
      },
      "execution_count": 4,
      "outputs": []
    },
    {
      "cell_type": "code",
      "source": [
        "show_images(x_train)"
      ],
      "metadata": {
        "colab": {
          "base_uri": "https://localhost:8080/",
          "height": 213
        },
        "id": "1YDV8-M4jBu9",
        "outputId": "b0d8804c-f2b9-4f88-c3a7-c8bf347f6762"
      },
      "execution_count": 5,
      "outputs": [
        {
          "output_type": "execute_result",
          "data": {
            "text/plain": [
              "array([37541, 48398, 39159,  4496, 55960, 52444, 17622,  7729, 51613,\n",
              "       25624])"
            ]
          },
          "metadata": {},
          "execution_count": 5
        },
        {
          "output_type": "display_data",
          "data": {
            "text/plain": [
              "<Figure size 432x216 with 10 Axes>"
            ],
            "image/png": "[encoded data removed]"
          },
          "metadata": {
            "needs_background": "light"
          }
        }
      ]
    },
    {
      "cell_type": "markdown",
      "source": [
        "#  Build a Neural Network from Scratch \n",
        "Building a neural netowork from scratch, then applying it to digit-classification using MNIST dataset\n",
        "\n",
        "# References\n",
        "[Basic Understanding of a Neural Network](https://www.youtube.com/watch?v=w8yWXqWQYmU&list=WL&index=48)\n",
        "\n",
        "~~[Neural Network based on this PDF](https://github.com/josh-truong/Coursera-Machine-Learning-Standford/blob/master/Week%205/ex4/ex4.pdf)~~\n",
        "\n",
        "[Supervised Deep Learning](https://bfeba431-a-62cb3a1a-s-sites.googlegroups.com/site/deeplearningcvpr2014/ranzato_cvpr2014_DLtutorial.pdf?attachauth=ANoY7crCm3oHioj51nzwHMP5oW8PmHeniUoyTPG-qXhwrZiwgB17QymsE5fR5snwXHijU1qdXc3bYM9o-KRJ865qd52ZCUpdlBxSHooXB0icmP8F37-eD4EE9-x6USV8qef2KgxRSdq0jpoypPtaVrszqSZ8AjE3RxAjUxcPL69yhPO50y-rsj8ApCQlheFP9L7XbOf1COszw_kEP6pNcCSQZvYjjI2Op5gPOi4qEaCO5B08lSnEhMk6IAkvufYhu1K7EreTieYA&attredirects=1)\n",
        "\n",
        "[Deep Neural Networks | lionelmessi6410](https://github.com/lionelmessi6410/Neural-Networks-from-Scratch/blob/main/NN-from-Scratch.ipynb)\n",
        "\n",
        "[Weight Initalizing](https://www.coursera.org/lecture/deep-neural-network/weight-initialization-for-deep-networks-RwqYe)\n",
        "\n",
        "[Initializing the biases](https://stackoverflow.com/questions/44883861/initial-bias-values-for-a-neural-network)"
      ],
      "metadata": {
        "id": "oxExLrYFaRmI"
      }
    },
    {
      "cell_type": "markdown",
      "source": [
        "# Goal\n",
        "1. Input layer: Given 28x28 pixel images → 784 pixels. Our input layer will have 784 nodes.\n",
        "2. Hidden layer:\n",
        "3. Output layer: There are 10 distinct labels within our dataset. Therefore, our output layer will have 10 nodes."
      ],
      "metadata": {
        "id": "F0jGJTYoHfHi"
      }
    },
    {
      "cell_type": "markdown",
      "source": [
        "# Multi-label Classification: Activation Functions\n",
        "[Pros and cons of sigmoid, tanh, relu, leaky relu, and softmax activation functions](https://medium.com/@cmukesh8688/activation-functions-sigmoid-tanh-relu-leaky-relu-softmax-50d3778dcea5)\n",
        "- If there's more than one \"right answer\" use a sigmoid function\n",
        "  - Sigmoid functions will allow for assignment of high probability to all classes\n",
        "$$S(\\vec{z}) = \\frac{1}{1+e^{-z}}$$\n",
        "- If there's only one \"right answer\" use a softmax function\n",
        "  - Softmax function will enforce that the sum of probabilities of the output class to equal one.\n",
        "$$\\sigma(\\vec{z})_i = \\frac{e^{z_i}}{\\sum^{j=1}_{K} (e^{z_j})}$$\n",
        "    - Probability of class i given input\n",
        "    - $\\sigma$ is softmax\n",
        "    - $\\vec{z}$ is the input vector\n",
        "    - $K$ is the number of classes in the multi-label classifier\n",
        "    - $e^{z_i}$ is the standard exponential function for input vector\n",
        "    - $e^{z_j}$ is the standard exponential function for output vector\n",
        "- Tanh converges quicker than sigmoid and logistic functions, and yields better accuracy.\n",
        "- ReLu(rectified linear unit) most popular activation function. Trains six times faster than tanh\n",
        "- LReLU(leaky rectified linear unit) developed to overcome one of the major shortcomings of ReLU.\n"
      ],
      "metadata": {
        "id": "MLWCLC0QRPPf"
      }
    },
    {
      "cell_type": "code",
      "source": [
        "class Activations:\n",
        "  def sigmoid(self, z, prime=False):\n",
        "    \"\"\"Compute the sigmoid of vector z or sigmoid prime.\"\"\"\n",
        "    sigmoid = 1.0 / (1 + np.exp(-z))\n",
        "    if (prime):\n",
        "      return sigmoid * (1 - sigmoid)\n",
        "    return sigmoid\n",
        "\n",
        "  def tanh(self, z, prime=False):\n",
        "    \"\"\"Compute the tanh of vector z or tanh prime.\"\"\"\n",
        "    tanh = (np.exp(z) - np.exp(-z)) / (np.exp(z) + np.exp(-z))\n",
        "    if (prime):\n",
        "      return 1.0 - np.power(tanh, 2)\n",
        "    return tanh\n",
        "\n",
        "  def relu(self, z, prime=False):\n",
        "    \"\"\"Compute the ReLU of vector z or ReLU prime.\"\"\"\n",
        "    if (prime):\n",
        "      return z > 0\n",
        "    return np.maximum(0, z)\n",
        "\n",
        "  def leakyrelu(self, z, alpha, prime=False):\n",
        "    \"\"\"Compute the leakyrelu of vector z or leakyrelu prime.\"\"\"\n",
        "    if (prime):\n",
        "      return 1 if z > 0 else alpha\n",
        "    return np.maximum(alpha * z, z)\n",
        "\n",
        "  def softmax(self, z):\n",
        "    \"\"\"Compute the softmax of vector z.\"\"\"\n",
        "    exps = np.exp(z - z.max())\n",
        "    return exps / np.sum(exps, axis=0)"
      ],
      "metadata": {
        "id": "NrbAHxSmeRIC"
      },
      "execution_count": 6,
      "outputs": []
    },
    {
      "cell_type": "markdown",
      "source": [
        "## Basic Neural Network\n",
        "Our NN will consists of 3 layers: input(784 nodes), hidden(10 nodes), and output(10 nodes) layer\n",
        "\n",
        "### Forward Propagation\n",
        "Forward propagation takes an input and gives a prediction.\n",
        "\n",
        "$\\underset{784 \\times m}{A_{0}} = X$\n",
        "- $A_{0}$ - input layer\n",
        "- $m$ - size of training set\n",
        "\n",
        "---\n",
        "\n",
        "#### Layer 1 (input and hidden layer)\n",
        "$\\underset{10 \\times m}{Z_{1}} = \\overbrace{\\underset{10 \\times 784}{W_{1}} \\cdot \\underset{784 \\times m}{A_{0}}}^{10 \\times m} + \\underset{10 \\times 1}{b_{1}}$\n",
        "- $Z_{1}$ is the <u>unactivated layer</u> of the <u>input</u> and <u>hidden</u> layer.\n",
        "- $W_{1}$ and $b_{1}$ are the weights and biases of the <u>input</u> and <u>hidden</u> layer.\n",
        "\n",
        "$\\underset{10 \\times m}{A_{1}} = g(Z_{1}) = \\text{ReLU}(Z_{1})$\n",
        "- $A_{1}$ - hidden layer\n",
        "- $g(x)$ - represents an activation function. In this case, $g(x)$ = ReLU activation function.\n",
        "- Weights and biases alone is not enough for our learning model, essentially our NN would become a composition of linear functions, which is a linear function. Essentially we would have a fancy linear regression model.\n",
        "- Adding a ReLU layer, will add complexity to our model by applying piece-wise linear tiling. Allowing for non-linearity in an inherently linear model.\n",
        "\n",
        "---\n",
        "\n",
        "#### Layer 2 (hidden and output layer)\n",
        "$\\underset{10 \\times m}{Z_{2}} = \\overbrace{\\underset{10 \\times 10}{W_{2}} \\cdot \\underset{10 \\times m}{A_{1}}}^{10 \\times m} + \\underset{10 \\times 1}{b_{2}}$\n",
        "- $Z_{2}$ is the <u>unactivated layer</u> between the <u>hidden</u> and <u>output</u> layer.\n",
        "- $W_{2}$ and $b_{2}$ are the weights and biases of the <u>hidden</u> and <u>output</u> layer.\n",
        "\n",
        "$A_{2} = \\text{softmax}(Z_{2})$\n",
        "- Second application of an activation function on $Z_{2}$\n",
        "- Since there are no more layers to evaluate. We should apply the softmax function to retrieve the predicted output layer.\n",
        "- Softmax activation function will enforce that the sum of probabilities of the output class to equal to 1.\n",
        "\n",
        "---\n",
        "---\n",
        "\n",
        "### Backpropagation\n",
        "Backpropagation starts with our prediction and determine how much the prediction deviated by the actual label, essentially calculating our error. Determine how much the weights and biases contributed to the error the outcome and adjust.\n",
        "\n",
        "---\n",
        "\n",
        "#### Determine how much the weights and biases contributed to ther error in layer 2\n",
        "$\\underset{10 \\times m}{dZ_{2}} = \\underset{10 \\times m}{A_{2}} - \\underset{10 \\times m}{Y}$\n",
        "- $dZ_2$ derivative of the softmax activation function. Essentially calculating the error between predicted and actual values.\n",
        "- $A_{2}$ is our prediction\n",
        "- $Y$ is a one hot encoded matrix of our actual label.\n",
        "  - One hot encoding converts our categorical value into a new categorical column and assign a binary value of 1 or 0 to those columns.\n",
        "Given a labeled set $Y$, one hot encode $Y$.\n",
        "\n",
        "| Y   | AA_one_hot | AB_one_hot | CD_one_hot |\n",
        "| ----| :--------: | :--------: | :--------: |\n",
        "| AA  | 1          | 0          | 0          |\n",
        "| AB  | 0          | 1          | 0          |\n",
        "| CD  | 0          | 0          | 1          |\n",
        "| AA  | 1          | 0          | 0          |\n",
        "\n",
        "$\\underset{10 \\times 10}{dW_{2}} = \\frac{1}{m} \\cdot \\underset{10 \\times m}{dZ_{2}} \\cdot \\underset{m \\times 10}{A_{1}^{T}}$\n",
        "- $dW_{2}$ derivative of the cost function with respect to the weights in layer 2(between output and hidden layer).\n",
        "- Determining how much the weights contributed to the error.\n",
        "\n",
        "$\\underset{10 \\times 1}{db_{2}} = \\frac{1}{m} \\cdot \\underset{10 \\times 1}{\\sum dZ_{2}}$\n",
        "- $db_{2}$ derivative of the cost function with respect to the biases in layer 2(between output and hidden layer).\n",
        "- Determining how much the biases contributed to the error.\n",
        "- Average of absolute error\n",
        "\n",
        "---\n",
        "\n",
        "#### Determine how much the weights and biases contributed to ther error in layer 1\n",
        "$\\underset{10 \\times m}{dZ_{1}} = (\\underset{10 \\times 10}{W_{2}^{T}} \\cdot \\underset{10 \\times m}{dZ_{2}}) \\circ \\underset{10 \\times m}{g'(Z_{1})}$\n",
        "- \"$\\circ$\" denotes Hadamard product (element-wise product)\n",
        "- Taking the errors $dZ_2$ and applying it to the weights, $W_{2}$, to get to the errors in layer 1. $g'()$ is the derivative of the activation function. By element-wise product, we get the proper error values of layer 1 because we have undone the activation function.\n",
        "\n",
        "$\\underset{10 \\times 784}{dW_{1}} = \\frac{1}{m} \\cdot \\underset{10 \\times m}{dZ_{1}} \\cdot \\underset{m \\times 784}{X^{T}}$\n",
        "\n",
        "$\\underset{10 \\times 1}{db_{1}} = \\frac{1}{m} \\cdot \\underset{10 \\times 1}{\\sum dZ_{1}}$\n",
        "\n",
        "---\n",
        "---\n",
        "### Update weights and biases\n",
        "Given a hyperparameter $\\alpha$, learning rate. Update the weights and biases.\n",
        "\n",
        "$W_{1} = W_{1} - \\alpha \\cdot dW_{1}$\n",
        "\n",
        "$b_{1} = b_{1} - \\alpha \\cdot db_{1}$\n",
        "\n",
        "$W_{2} = W_{2} - \\alpha \\cdot dW_{2}$\n",
        "\n",
        "$b_{2} = b_{2} - \\alpha \\cdot db_{2}$\n",
        "\n",
        "---\n",
        "---\n",
        "### Deep Learning Optimizers\n",
        "#### Stochatic Gradient Descent (SGD)\n",
        "$\\theta^{t+1} = \\theta^{t} - \\alpha \\cdot \\triangledown L(y, \\hat{y})$\n",
        "- $\\theta$ - params\n",
        "- $\\alpha$ - learning rate\n",
        "- $\\triangledown L(y, \\hat{y})$ - gradient\n",
        "            \n",
        "#### Momentum\n",
        "$v^{t+1} = \\beta v^{t} + (1-\\beta) \\cdot \\triangledown L(y, \\hat{y})^{t}$\n",
        "\n",
        "$\\theta^{t+1} = \\theta^{t} - \\alpha \\cdot v^{t+1}$\n",
        "- $v^{t+1}$ - change of $\\theta$\n",
        "- $\\beta$ - controls the amount of history(momentum), hyperparameter\n",
        "- $\\theta$ - params\n",
        "- $\\alpha$ - learning rate, hyperparameter\n",
        "- $\\triangledown L(y, \\hat{y})$ - gradient"
      ],
      "metadata": {
        "id": "V82Ag5puGBFU"
      }
    },
    {
      "cell_type": "code",
      "source": [
        "class NeuralNetwork:\n",
        "  def __init__(self, input_layer_size, output_layer_size, hidden_layer_size):\n",
        "    self.input_layer_size =  input_layer_size\n",
        "    self.output_layer_size = output_layer_size\n",
        "    self.hidden_layer_size = hidden_layer_size\n",
        "    self.n = self.m = None\n",
        "\n",
        "    self.layer_size = 2\n",
        "    self.W = self.B = None\n",
        "\n",
        "  def _init_params(self):\n",
        "    self.W = [\n",
        "        np.random.rand(self.hidden_layer_size, self.input_layer_size) * np.sqrt(1./self.input_layer_size),\n",
        "        np.random.rand(self.output_layer_size, self.hidden_layer_size) * np.sqrt(1./self.hidden_layer_size)\n",
        "    ]\n",
        "    self.B = [\n",
        "        np.zeros((self.hidden_layer_size, 1)),\n",
        "        np.zeros((self.output_layer_size, 1))\n",
        "    ]\n",
        "\n",
        "  def one_hot(self, x, k, dtype=np.float32):\n",
        "    \"\"\"Create a one-hot encoding of x of size k.\"\"\"\n",
        "    return np.array(x[:, None] == np.arange(k), dtype)\n",
        "\n",
        "  def forward_propagate(self, X):\n",
        "    # Layer 1\n",
        "    Z1 = self.W[0] @ X + self.B[0]\n",
        "    A1 = Activations().relu(Z1)\n",
        "\n",
        "    # Layer 2\n",
        "    Z2 = self.W[1] @ A1 + self.B[1]\n",
        "    A2 = Activations().softmax(Z2)\n",
        "    return Z1, A1, Z2, A2\n",
        "\n",
        "  def backward_propagate(self, X, Y, Z1, A1, Z2, A2):\n",
        "    n, m = X.shape\n",
        "    Y = self.one_hot(Y, self.output_layer_size)\n",
        "    # Layer 2\n",
        "    dZ2 = A2 - Y.T\n",
        "    dW2 = (dZ2 @ A1.T) / m\n",
        "    dB2 = np.sum(dZ2) / m\n",
        "\n",
        "    # Layer 1\n",
        "    dZ1 = np.multiply(self.W[1].T @ dZ2, Activations().relu(Z1, prime=True))\n",
        "    dW1 = (dZ1 @ X.T) / m\n",
        "    dB1 = np.sum(dZ1) / m\n",
        "    return dW2, dB2, dW1, dB1\n",
        "  \n",
        "  def update_params(self, dW2, dB2, dW1, dB1, alpha):\n",
        "    self.W = [\n",
        "        self.W[0] - alpha * dW1,\n",
        "        self.W[1] - alpha * dW2,\n",
        "    ]\n",
        "    self.B = [\n",
        "        self.B[0] - alpha * dB1,\n",
        "        self.B[1] - alpha * dB2\n",
        "    ]\n",
        "\n",
        "  def get_prediction(self, y):\n",
        "    return np.argmax(y, 0)\n",
        "  \n",
        "  def get_accuracy(self, y, output):\n",
        "    return np.mean(output == y)\n",
        "\n",
        "  def test_prediction(self, X, Y):\n",
        "    indices = show_images(X.T, nrow=2, ncol=5, img_w=28, img_height=28)\n",
        "    X = X[:, indices]\n",
        "    Y = Y[indices]\n",
        "    _, _, _, A2 = self.forward_propagate(X)\n",
        "    y_predict = self.get_prediction(A2)\n",
        "    print(\"Prediction: {0}\\n     Label: {1}\".format(y_predict, Y))\n",
        "    \n",
        "\n",
        "  def cross_entropy_loss(self, y, output):\n",
        "    \"\"\" L(y, ŷ) = −∑ylog(ŷ) \"\"\"\n",
        "    y = self.one_hot(y, self.output_layer_size)\n",
        "    l_sum = np.sum(np.multiply(y.T, np.log(output)))\n",
        "    m = y.shape[0]\n",
        "    l = -(1./m) * l_sum\n",
        "    return l\n",
        "\n",
        "  def gradient_descent(self, X, Y, alpha):\n",
        "    Z1, A1, Z2, A2 = self.forward_propagate(X)\n",
        "    dW2, dB2, dW1, dB1 = self.backward_propagate(X, Y, Z1, A1, Z2, A2)\n",
        "    self.update_params(dW2, dB2, dW1, dB1, alpha)\n",
        "    return A2\n",
        "  \n",
        "  def train(self, x_train, y_train, x_test, y_test, alpha=0.1, iter=500):\n",
        "    self._init_params()\n",
        "    start_time = time.time()\n",
        "    template = \"Epoch {}: {:.2f}s, train acc={:.2f}, train loss={:.2f}, test acc={:.2f}, test loss={:.2f}\"\n",
        "\n",
        "    for i in range(iter):\n",
        "      Y_predict = self.gradient_descent(x_train, y_train, alpha)\n",
        "\n",
        "      if (i % 50 == 0):\n",
        "        train_acc = self.get_accuracy(y_train, self.get_prediction(Y_predict))\n",
        "        train_loss = self.cross_entropy_loss(y_train, Y_predict)\n",
        "\n",
        "        _, _, _, A2 = self.forward_propagate(x_test)\n",
        "        test_acc = self.get_accuracy(y_test, self.get_prediction(A2))\n",
        "        test_loss = self.cross_entropy_loss(y_test, A2)\n",
        "        print(template.format(i+1, time.time()-start_time, train_acc, train_loss, test_acc, test_loss))"
      ],
      "metadata": {
        "id": "8WFkjbb7rJMr"
      },
      "execution_count": 7,
      "outputs": []
    },
    {
      "cell_type": "code",
      "source": [
        "input_layer_size  = 784 # 28x28 image = 784 pixels\n",
        "hidden_layer_size = 10  # Any natural numbers\n",
        "output_layer_size = 10  # Label has 10 distinct units\n",
        "nn = NeuralNetwork(input_layer_size, output_layer_size, hidden_layer_size)\n",
        "nn.train(x_train.T, y_train.T, x_test.T, y_test.T, iter=500)\n",
        "nn.test_prediction(x_test.T, y_test.T)"
      ],
      "metadata": {
        "colab": {
          "base_uri": "https://localhost:8080/",
          "height": 386
        },
        "id": "W6heZCM9cjrC",
        "outputId": "af2f6fed-2a75-43f0-848d-2d1d6069a52a"
      },
      "execution_count": 8,
      "outputs": [
        {
          "output_type": "stream",
          "name": "stdout",
          "text": [
            "Epoch 1: 0.80s, train acc=0.10, train loss=2.44, test acc=0.11, test loss=2.32\n",
            "Epoch 51: 21.28s, train acc=0.70, train loss=1.43, test acc=0.71, test loss=1.40\n",
            "Epoch 101: 39.94s, train acc=0.80, train loss=0.78, test acc=0.81, test loss=0.76\n",
            "Epoch 151: 58.48s, train acc=0.83, train loss=0.59, test acc=0.84, test loss=0.57\n",
            "Epoch 201: 77.39s, train acc=0.86, train loss=0.51, test acc=0.86, test loss=0.49\n",
            "Epoch 251: 95.77s, train acc=0.87, train loss=0.46, test acc=0.87, test loss=0.44\n",
            "Epoch 301: 114.32s, train acc=0.88, train loss=0.43, test acc=0.89, test loss=0.41\n",
            "Epoch 351: 132.55s, train acc=0.89, train loss=0.40, test acc=0.89, test loss=0.38\n",
            "Epoch 401: 150.76s, train acc=0.89, train loss=0.38, test acc=0.90, test loss=0.37\n",
            "Epoch 451: 169.11s, train acc=0.90, train loss=0.37, test acc=0.90, test loss=0.35\n",
            "Prediction: [9 8 4 6 1 9 9 6 4 0]\n",
            "     Label: [9 8 4 6 1 2 9 5 4 0]\n"
          ]
        },
        {
          "output_type": "display_data",
          "data": {
            "text/plain": [
              "<Figure size 432x216 with 10 Axes>"
            ],
            "image/png": "[encoded data removed]"
          },
          "metadata": {
            "needs_background": "light"
          }
        }
      ]
    }
  ]
}